{
 "cells": [
  {
   "cell_type": "code",
   "execution_count": 1,
   "id": "f8e28b9c",
   "metadata": {},
   "outputs": [
    {
     "name": "stdout",
     "output_type": "stream",
     "text": [
      "3\n"
     ]
    }
   ],
   "source": [
    "a=\"11\"\n",
    "b=int(a,2)\n",
    "print(b)"
   ]
  },
  {
   "cell_type": "code",
   "execution_count": 2,
   "id": "3e490ed0",
   "metadata": {},
   "outputs": [
    {
     "name": "stdout",
     "output_type": "stream",
     "text": [
      "1\n"
     ]
    }
   ],
   "source": [
    "c=\"1\"\n",
    "d=int(c,2)\n",
    "print(d)"
   ]
  },
  {
   "cell_type": "code",
   "execution_count": 3,
   "id": "0c08f2cc",
   "metadata": {},
   "outputs": [
    {
     "data": {
      "text/plain": [
       "'100'"
      ]
     },
     "execution_count": 3,
     "metadata": {},
     "output_type": "execute_result"
    }
   ],
   "source": [
    "bin(b+d)[2:]"
   ]
  },
  {
   "cell_type": "code",
   "execution_count": 4,
   "id": "4fbb8973",
   "metadata": {},
   "outputs": [
    {
     "name": "stdout",
     "output_type": "stream",
     "text": [
      "10\n",
      "11\n"
     ]
    },
    {
     "data": {
      "text/plain": [
       "'10101'"
      ]
     },
     "execution_count": 4,
     "metadata": {},
     "output_type": "execute_result"
    }
   ],
   "source": [
    "a=\"1010\"\n",
    "b=int(a,2)\n",
    "print(b)\n",
    "c=\"1011\"\n",
    "d=int(c,2)\n",
    "print(d)\n",
    "bin(b+d)[2:]\n"
   ]
  },
  {
   "cell_type": "code",
   "execution_count": 5,
   "id": "82fca0b9",
   "metadata": {},
   "outputs": [],
   "source": [
    "def binadd(a,b):\n",
    "    return bin(int(a,2)+int(b,2))[2:]"
   ]
  },
  {
   "cell_type": "markdown",
   "id": "45924db5",
   "metadata": {},
   "source": [
    "distance b/w given points\n"
   ]
  },
  {
   "cell_type": "code",
   "execution_count": 6,
   "id": "fcfe1a2e",
   "metadata": {},
   "outputs": [
    {
     "data": {
      "text/plain": [
       "10.783510444802673"
      ]
     },
     "execution_count": 6,
     "metadata": {},
     "output_type": "execute_result"
    }
   ],
   "source": [
    "\n",
    "def dist(x1,x2,x3,y1,y2,y3 ):\n",
    "    ab=((x2-x1)**2+(y2-y1)**2)**0.5\n",
    "    bc=((x3-x2)**2+(y3-y2)**2)**0.5\n",
    "    ca=((x1-x3)**2+(y1-y3)**2)**0.5\n",
    "    return(ab+bc+ca) \n",
    "dist(1,2,3,1,4,6)\n",
    "    "
   ]
  },
  {
   "cell_type": "markdown",
   "id": "c16ad1c9",
   "metadata": {},
   "source": [
    "remove whitespaces(strip)\n",
    "no conversion return 0\n",
    "if len(s)=0\n",
    "return 0\n",
    "\n"
   ]
  },
  {
   "cell_type": "code",
   "execution_count": 7,
   "id": "968b39f5",
   "metadata": {},
   "outputs": [],
   "source": [
    "def atoi(s):\n",
    "    s=s.strip()\n",
    "    sign=1\n",
    "    if len(s)==0:\n",
    "        return 0\n",
    "    if s[0]=='-':\n",
    "        sign=-1\n",
    "        s=s[1:]\n",
    "    elif s[0]=='+':\n",
    "        s=s[1:]\n",
    "    result=0\n",
    "    for i in s:\n",
    "        if i.isdigit():\n",
    "            digit=int(i)\n",
    "            result=result*10+digit\n",
    "        else:\n",
    "            break\n",
    "            min=-2**31\n",
    "            max=2**31-1\n",
    "            if result<min:\n",
    "                return min\n",
    "            elif result>max:\n",
    "                return max\n",
    "            else:\n",
    "                return result\n",
    "    \n",
    "\n",
    "    "
   ]
  },
  {
   "cell_type": "code",
   "execution_count": 8,
   "id": "9d472475",
   "metadata": {},
   "outputs": [],
   "source": [
    "atoi(\"     -45678gf6\")"
   ]
  },
  {
   "cell_type": "code",
   "execution_count": 9,
   "id": "0e386108",
   "metadata": {},
   "outputs": [],
   "source": [
    "def rtoi(s):\n",
    "    R={'I':1,'v':5,'x':10,'l':50,'c':100,'d':500,'m':1000}\n",
    "    total=0\n",
    "    for i in range(len(s)):\n",
    "        cval=R[s[i]]\n",
    "        nval=R[s[i+1]]  if i+1<len(s) else 0\n",
    "        if cval>=nval:\n",
    "            total=total+cval\n",
    "        else:\n",
    "            total=total-cval\n",
    "    return total\n",
    "           \n",
    "              \n",
    "\n",
    "       \n",
    "       "
   ]
  },
  {
   "cell_type": "code",
   "execution_count": 10,
   "id": "fcb61fc9",
   "metadata": {},
   "outputs": [
    {
     "data": {
      "text/plain": [
       "5"
      ]
     },
     "execution_count": 10,
     "metadata": {},
     "output_type": "execute_result"
    }
   ],
   "source": [
    "rtoi(\"v\")"
   ]
  },
  {
   "cell_type": "code",
   "execution_count": 11,
   "id": "93851eaf",
   "metadata": {},
   "outputs": [
    {
     "name": "stdout",
     "output_type": "stream",
     "text": [
      "[5, 4, 3, 1, 2]\n"
     ]
    }
   ],
   "source": [
    "import random\n",
    "my_list=[1,2,3,4,5]\n",
    "random.shuffle(my_list)\n",
    "print(my_list)"
   ]
  },
  {
   "cell_type": "markdown",
   "id": "dc3926a9",
   "metadata": {},
   "source": [
    "haystack\n"
   ]
  },
  {
   "cell_type": "code",
   "execution_count": 12,
   "id": "d8f5af9c",
   "metadata": {},
   "outputs": [],
   "source": [
    "def substring(haystack,needle):\n",
    "    return haystack.find(needle)"
   ]
  },
  {
   "cell_type": "code",
   "execution_count": 13,
   "id": "d6408319",
   "metadata": {},
   "outputs": [
    {
     "data": {
      "text/plain": [
       "20"
      ]
     },
     "execution_count": 13,
     "metadata": {},
     "output_type": "execute_result"
    }
   ],
   "source": [
    "haystack='hellojwalihellojwalihow'\n",
    "needle='how'\n",
    "substring(haystack,needle)"
   ]
  },
  {
   "cell_type": "code",
   "execution_count": 14,
   "id": "cfa65a60",
   "metadata": {},
   "outputs": [],
   "source": [
    "def twosum(arr,target):\n",
    "    for i in range(len(arr)):\n",
    "        for j in range(i+1,len(arr)):\n",
    "            if arr[i]+arr[j]==target:\n",
    "                return[i,j]\n",
    "            "
   ]
  },
  {
   "cell_type": "code",
   "execution_count": 15,
   "id": "93e41627",
   "metadata": {},
   "outputs": [
    {
     "data": {
      "text/plain": [
       "[0, 4]"
      ]
     },
     "execution_count": 15,
     "metadata": {},
     "output_type": "execute_result"
    }
   ],
   "source": [
    "twosum([2,3,11,15,7,6],9)"
   ]
  },
  {
   "cell_type": "markdown",
   "id": "860dac96",
   "metadata": {},
   "source": [
    "tax calculator\n"
   ]
  },
  {
   "cell_type": "code",
   "execution_count": 16,
   "id": "ca7be59d",
   "metadata": {},
   "outputs": [],
   "source": [
    "def tax(sal):\n",
    "    if sal<1 and sal<=5000:\n",
    "        return \"no tax\"\n",
    "    elif sal>5000 and sal>=10000:\n",
    "        return sal-(sal*0.05+10)\n",
    "    elif sal>10000 and sal<=50000:\n",
    "        return sal-(sal*0.1+100)\n",
    "    elif sal>50000 and sal<=100000:\n",
    "        return sal-(sal*0.15+150)\n",
    "    elif sal>100000:\n",
    "        return sal-(sal*0.20+200)\n",
    "    elif sal<0:\n",
    "        return -1\n",
    "    "
   ]
  },
  {
   "cell_type": "code",
   "execution_count": 17,
   "id": "e841416f",
   "metadata": {},
   "outputs": [
    {
     "data": {
      "text/plain": [
       "14240.0"
      ]
     },
     "execution_count": 17,
     "metadata": {},
     "output_type": "execute_result"
    }
   ],
   "source": [
    "tax(15000)"
   ]
  },
  {
   "cell_type": "code",
   "execution_count": 18,
   "id": "ee6703da",
   "metadata": {},
   "outputs": [],
   "source": [
    "def taxcalculator(sal):\n",
    "    if sal<0:\n",
    "        return -1\n",
    "    elif sal>0 and sal<5000:\n",
    "        return \"no tax\"\n",
    "    elif sal>5000 and sal<=10000:\n",
    "        return sal-(sal*0.05+10)\n",
    "    elif sal>10000 and sal<=50000:\n",
    "        return sal-(sal*0.1+100)\n",
    "    elif sal>50000 and sal<=100000:\n",
    "        return sal-(sal*0.15+150)\n",
    "    elif sal>100000:\n",
    "        return sal-(sal*0.20+600)"
   ]
  },
  {
   "cell_type": "code",
   "execution_count": 19,
   "id": "0a32ae26",
   "metadata": {},
   "outputs": [
    {
     "data": {
      "text/plain": [
       "13400.0"
      ]
     },
     "execution_count": 19,
     "metadata": {},
     "output_type": "execute_result"
    }
   ],
   "source": [
    "taxcalculator(15000)"
   ]
  },
  {
   "cell_type": "code",
   "execution_count": 24,
   "id": "997f2da1",
   "metadata": {},
   "outputs": [],
   "source": [
    " def dupli(num):\n",
    "        if not nums:\n",
    "            return 0\n",
    "            k = 1\n",
    "        for i in range(1, len(nums)):\n",
    "            if nums[i] != nums[i - 1]:\n",
    "                nums[k] = nums[i]\n",
    "                k += 1\n",
    "        \n",
    "        return k\n"
   ]
  },
  {
   "cell_type": "code",
   "execution_count": 25,
   "id": "10ceab67",
   "metadata": {},
   "outputs": [],
   "source": [
    "dupli = [1, 1, 2, 3, 4, 5]"
   ]
  },
  {
   "cell_type": "markdown",
   "id": "d93ae0b6",
   "metadata": {},
   "source": [
    "climbing stairs"
   ]
  },
  {
   "cell_type": "code",
   "execution_count": 37,
   "id": "2385d4dd",
   "metadata": {},
   "outputs": [],
   "source": [
    "def climb(n):\n",
    "    if n==0 or n==1:\n",
    "        return 1\n",
    "    else:\n",
    "        return climb(n-1)+climb(n-2)\n",
    "        "
   ]
  },
  {
   "cell_type": "code",
   "execution_count": 40,
   "id": "63cce0ee",
   "metadata": {},
   "outputs": [
    {
     "data": {
      "text/plain": [
       "13"
      ]
     },
     "execution_count": 40,
     "metadata": {},
     "output_type": "execute_result"
    }
   ],
   "source": [
    "climb(6)"
   ]
  },
  {
   "cell_type": "code",
   "execution_count": null,
   "id": "76eb88e3",
   "metadata": {},
   "outputs": [],
   "source": []
  }
 ],
 "metadata": {
  "kernelspec": {
   "display_name": "Python 3 (ipykernel)",
   "language": "python",
   "name": "python3"
  },
  "language_info": {
   "codemirror_mode": {
    "name": "ipython",
    "version": 3
   },
   "file_extension": ".py",
   "mimetype": "text/x-python",
   "name": "python",
   "nbconvert_exporter": "python",
   "pygments_lexer": "ipython3",
   "version": "3.11.5"
  }
 },
 "nbformat": 4,
 "nbformat_minor": 5
}
