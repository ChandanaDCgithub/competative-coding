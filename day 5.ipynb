{
 "cells": [
  {
   "cell_type": "code",
   "execution_count": 1,
   "id": "d2dd8350",
   "metadata": {},
   "outputs": [],
   "source": [
    "def inter(nums1,nums2):\n",
    "    nums1=set(nums1)\n",
    "    nums2=set(nums2)\n",
    "    return nums1.intersection(nums2)"
   ]
  },
  {
   "cell_type": "code",
   "execution_count": 2,
   "id": "527d44fb",
   "metadata": {},
   "outputs": [
    {
     "data": {
      "text/plain": [
       "{2}"
      ]
     },
     "execution_count": 2,
     "metadata": {},
     "output_type": "execute_result"
    }
   ],
   "source": [
    "inter([2,3,4],[2,5,8])"
   ]
  },
  {
   "cell_type": "code",
   "execution_count": 3,
   "id": "e0e8c52b",
   "metadata": {},
   "outputs": [],
   "source": [
    "def rat(r,unit,arr,n):\n",
    "    if n==0:\n",
    "        return -1\n",
    "    result=0\n",
    "    n=r*unit\n",
    "    for i in range(len(arr)):\n",
    "        result=result+arr[i]\n",
    "        if result>=n:\n",
    "            return i+1\n",
    "    return -1\n",
    "r=8\n",
    "unit=2\n",
    "\n"
   ]
  },
  {
   "cell_type": "code",
   "execution_count": 4,
   "id": "0359a808",
   "metadata": {},
   "outputs": [
    {
     "data": {
      "text/plain": [
       "-1"
      ]
     },
     "execution_count": 4,
     "metadata": {},
     "output_type": "execute_result"
    }
   ],
   "source": [
    "rat(8,2,[2,8,3,7,4,1],0)"
   ]
  },
  {
   "cell_type": "code",
   "execution_count": 5,
   "id": "39505bd5",
   "metadata": {},
   "outputs": [
    {
     "data": {
      "text/plain": [
       "4"
      ]
     },
     "execution_count": 5,
     "metadata": {},
     "output_type": "execute_result"
    }
   ],
   "source": [
    "rat(8,2,[2,8,3,7,4,1],6)"
   ]
  },
  {
   "cell_type": "code",
   "execution_count": 6,
   "id": "9c3490e0",
   "metadata": {},
   "outputs": [],
   "source": [
    "def factors(n):\n",
    "    factors=[]\n",
    "    if n<=0:\n",
    "        return 0\n",
    "    for i in range(1,n+1):\n",
    "        if n%i==0:\n",
    "            factors.append(i)\n",
    "\n",
    "    return factors\n",
    "            \n",
    "            "
   ]
  },
  {
   "cell_type": "code",
   "execution_count": 7,
   "id": "23d98661",
   "metadata": {},
   "outputs": [
    {
     "data": {
      "text/plain": [
       "[1, 2, 3, 4, 6, 12]"
      ]
     },
     "execution_count": 7,
     "metadata": {},
     "output_type": "execute_result"
    }
   ],
   "source": [
    "factors(12)"
   ]
  },
  {
   "cell_type": "code",
   "execution_count": 8,
   "id": "6b51c522",
   "metadata": {},
   "outputs": [
    {
     "data": {
      "text/plain": [
       "0"
      ]
     },
     "execution_count": 8,
     "metadata": {},
     "output_type": "execute_result"
    }
   ],
   "source": [
    "factors(-3)"
   ]
  },
  {
   "cell_type": "code",
   "execution_count": 9,
   "id": "1bb9d3dc",
   "metadata": {},
   "outputs": [],
   "source": [
    "def fact(num):\n",
    "    if num<=0:\n",
    "        return 0\n",
    "    my_list=[i for i in range(1,num+1) if num%i==0]\n",
    "    return my_list"
   ]
  },
  {
   "cell_type": "code",
   "execution_count": 10,
   "id": "19d41ffb",
   "metadata": {},
   "outputs": [
    {
     "data": {
      "text/plain": [
       "[1, 2, 17, 34]"
      ]
     },
     "execution_count": 10,
     "metadata": {},
     "output_type": "execute_result"
    }
   ],
   "source": [
    "fact(34)"
   ]
  },
  {
   "cell_type": "markdown",
   "id": "13ed0861",
   "metadata": {},
   "source": [
    "reverse string using array/stack"
   ]
  },
  {
   "cell_type": "code",
   "execution_count": 11,
   "id": "f1935c88",
   "metadata": {},
   "outputs": [],
   "source": [
    "class stack:\n",
    "    def __init__(self):\n",
    "        self.st=[]\n",
    "    def revstr(self,str):\n",
    "        result=''\n",
    "        for i in str:\n",
    "            self.st.append(i)\n",
    "        for i in range(len(self.st)):\n",
    "            poped=self.st.pop()\n",
    "            result=result+poped\n",
    "        return result\n",
    "        \n",
    "   "
   ]
  },
  {
   "cell_type": "code",
   "execution_count": 12,
   "id": "f577b730",
   "metadata": {},
   "outputs": [
    {
     "data": {
      "text/plain": [
       "'llik'"
      ]
     },
     "execution_count": 12,
     "metadata": {},
     "output_type": "execute_result"
    }
   ],
   "source": [
    "l=stack()\n",
    "l.revstr(\"kill\")"
   ]
  },
  {
   "cell_type": "code",
   "execution_count": 13,
   "id": "7f3b2573",
   "metadata": {},
   "outputs": [],
   "source": [
    "def missing(arr):\n",
    "    for i in range(1,arr[-1]+1):\n",
    "        if i not in arr:\n",
    "            print(i*\"*\")"
   ]
  },
  {
   "cell_type": "code",
   "execution_count": 14,
   "id": "b2b0732a",
   "metadata": {},
   "outputs": [
    {
     "name": "stdout",
     "output_type": "stream",
     "text": [
      "***\n"
     ]
    }
   ],
   "source": [
    "missing([1,2,4,5,6])"
   ]
  },
  {
   "cell_type": "markdown",
   "id": "c5310d2c",
   "metadata": {},
   "source": [
    "Exelcoloumn number"
   ]
  },
  {
   "cell_type": "code",
   "execution_count": 15,
   "id": "2db0f35f",
   "metadata": {},
   "outputs": [
    {
     "data": {
      "text/plain": [
       "65"
      ]
     },
     "execution_count": 15,
     "metadata": {},
     "output_type": "execute_result"
    }
   ],
   "source": [
    "my_string=\"A\"\n",
    "ord(my_string)"
   ]
  },
  {
   "cell_type": "code",
   "execution_count": 16,
   "id": "52904976",
   "metadata": {},
   "outputs": [
    {
     "data": {
      "text/plain": [
       "1"
      ]
     },
     "execution_count": 16,
     "metadata": {},
     "output_type": "execute_result"
    }
   ],
   "source": [
    "my_str=\"A\"\n",
    "ord(my_str)-64"
   ]
  },
  {
   "cell_type": "code",
   "execution_count": 17,
   "id": "f62761cf",
   "metadata": {},
   "outputs": [],
   "source": [
    "def col(name):\n",
    "    result=0\n",
    "    for i in name:\n",
    "        result=result*26+ord(i)-64\n",
    "    return result"
   ]
  },
  {
   "cell_type": "code",
   "execution_count": 18,
   "id": "148c3cc8",
   "metadata": {},
   "outputs": [
    {
     "data": {
      "text/plain": [
       "703"
      ]
     },
     "execution_count": 18,
     "metadata": {},
     "output_type": "execute_result"
    }
   ],
   "source": [
    "col('AAA')"
   ]
  },
  {
   "cell_type": "markdown",
   "id": "8477cb02",
   "metadata": {},
   "source": [
    "Demonstrate ATM function"
   ]
  },
  {
   "cell_type": "code",
   "execution_count": 19,
   "id": "56db665c",
   "metadata": {},
   "outputs": [
    {
     "ename": "SyntaxError",
     "evalue": "invalid syntax (2776981654.py, line 3)",
     "output_type": "error",
     "traceback": [
      "\u001b[1;36m  Cell \u001b[1;32mIn[19], line 3\u001b[1;36m\u001b[0m\n\u001b[1;33m    balance enquiry\u001b[0m\n\u001b[1;37m            ^\u001b[0m\n\u001b[1;31mSyntaxError\u001b[0m\u001b[1;31m:\u001b[0m invalid syntax\n"
     ]
    }
   ],
   "source": [
    "withdrwal\n",
    "deposit\n",
    "balance enquiry\n",
    "offers on FD\n",
    "Quit"
   ]
  },
  {
   "cell_type": "code",
   "execution_count": null,
   "id": "df8d76a5",
   "metadata": {},
   "outputs": [],
   "source": [
    "def atm():\n",
    "    print(\"Welcome to SBI bank\")\n",
    "    pins = {\"Jwalitha\" : \"4555\", \"Bhavya\" : \"2586\", \"Anu\" : \"3692\", \"Sihi\" : \"2468\", \"Ani\" : \"9513\"}\n",
    "    bal = {\"Jwalitha\" : 20000, \"Bhavya\" : 30000, \"Anu\" : 40000, \"Sihi\" : 50000, \"Ani\" : 60000}\n",
    "    name = input(\"Enter your name:\")\n",
    "    pin = input(\"Enter your pin:\")\n",
    "    if pins[name] != pin:\n",
    "        return \"Invalid pin\"\n",
    "    while True:\n",
    "        choices = \"Option 1 : Withdrawal\\n Option 2 : Deposit \\n Option 3 : Balance Enquiry \\n Option 4 : Offers \\n Option 5 : Change Pin \\n Option 6 :Quit\"\n",
    "        print(choices)\n",
    "        choice = int(input(\"Enter your choice:\"))\n",
    "        if choice == 1:\n",
    "            print(\"WITHDRAW\")\n",
    "            w = int(input(\"Enter the withdrawal amount:\"))\n",
    "            if w > bal[name]:\n",
    "                print(\"Insufficient Funds\")\n",
    "            else :\n",
    "                bal[name] = bal[name] - w\n",
    "        elif choice == 2:\n",
    "            print(\"DEPOSIT\")\n",
    "            d = int(input(\"Enter the deposit amount\"))\n",
    "            bal[name] = bal[name] + d\n",
    "        elif choice == 3:\n",
    "            print(\"Your current bank balance is:\",bal[name])\n",
    "        elif choice == 4:\n",
    "            print(\"FD rates or high if you lock 1L for 5 years\")\n",
    "        elif choice == 5:\n",
    "            newpin = int(input(\"Enter your pin:\"))\n",
    "            pins[name] = newpin\n",
    "            print(\"Pin updated\") \n",
    "        elif choice==6:\n",
    "            \n"
   ]
  },
  {
   "cell_type": "code",
   "execution_count": null,
   "id": "a929ac5b",
   "metadata": {},
   "outputs": [],
   "source": [
    "atm()"
   ]
  },
  {
   "cell_type": "code",
   "execution_count": null,
   "id": "12528b58",
   "metadata": {},
   "outputs": [],
   "source": []
  },
  {
   "cell_type": "markdown",
   "id": "f05c5fd0",
   "metadata": {},
   "source": []
  },
  {
   "cell_type": "code",
   "execution_count": 44,
   "id": "09f78aca",
   "metadata": {},
   "outputs": [],
   "source": [
    "class linkedlist:\n",
    "    class Node:\n",
    "        def __init__ (self,data):     #creating a node\n",
    "            self.data=data            \n",
    "            self.next=None\n",
    "    def __init__ (self):\n",
    "        self.head=None #where no data is precent so it is null\n",
    "    def insertbegg(self,data):\n",
    "        newnode=linkedlist.Node(data)#creating a newnode \n",
    "        newnode.next=self.head \n",
    "        self.head=newnode\n",
    "    def traverse(self):\n",
    "        current=self.head\n",
    "        while current:\n",
    "            print(current.data,end=\"-->\")\n",
    "            current=current.next\n",
    "        print(None)\n",
    "        ###NEXT DAY\n",
    "    def nodefromrev(self,n): #n=3\n",
    "        count=0\n",
    "        current=self.head\n",
    "        while current:\n",
    "            count=count+1\n",
    "            current=current.next\n",
    "        if count==n: \n",
    "            return self.head.next\n",
    "        #finding before node\n",
    "        ptr1=self.head\n",
    "        for _ in range(count-n-1):\n",
    "            ptr1=ptr1.next\n",
    "            ptr1.next=ptr1.next.next\n",
    "            return self.head\n"
   ]
  },
  {
   "cell_type": "code",
   "execution_count": 45,
   "id": "4b0eddee",
   "metadata": {},
   "outputs": [
    {
     "name": "stdout",
     "output_type": "stream",
     "text": [
      "86-->93-->71-->4-->6-->7-->None\n"
     ]
    }
   ],
   "source": [
    "ll=linkedlist()\n",
    "ll.insertbegg(7)\n",
    "ll.insertbegg(6)\n",
    "ll.insertbegg(4)\n",
    "ll.insertbegg(71)\n",
    "ll.insertbegg(93)\n",
    "ll.insertbegg(86)\n",
    "ll.traverse()\n"
   ]
  },
  {
   "cell_type": "code",
   "execution_count": 46,
   "id": "2cbfb52b",
   "metadata": {},
   "outputs": [
    {
     "name": "stdout",
     "output_type": "stream",
     "text": [
      "86-->93-->4-->6-->7-->None\n"
     ]
    }
   ],
   "source": [
    "ll.nodefromrev(4)\n",
    "ll.traverse()"
   ]
  },
  {
   "cell_type": "code",
   "execution_count": null,
   "id": "b649ff6c",
   "metadata": {},
   "outputs": [],
   "source": []
  },
  {
   "cell_type": "code",
   "execution_count": null,
   "id": "5b0f5919",
   "metadata": {},
   "outputs": [],
   "source": []
  }
 ],
 "metadata": {
  "kernelspec": {
   "display_name": "Python 3 (ipykernel)",
   "language": "python",
   "name": "python3"
  },
  "language_info": {
   "codemirror_mode": {
    "name": "ipython",
    "version": 3
   },
   "file_extension": ".py",
   "mimetype": "text/x-python",
   "name": "python",
   "nbconvert_exporter": "python",
   "pygments_lexer": "ipython3",
   "version": "3.11.5"
  }
 },
 "nbformat": 4,
 "nbformat_minor": 5
}
