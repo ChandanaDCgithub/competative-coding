{
 "cells": [
  {
   "cell_type": "markdown",
   "id": "c439e820",
   "metadata": {},
   "source": [
    "Reverse an integer"
   ]
  },
  {
   "cell_type": "code",
   "execution_count": 1,
   "id": "2297f163",
   "metadata": {},
   "outputs": [],
   "source": [
    "#with typecasting\n",
    "def rev(num):\n",
    "    R=str(num)\n",
    "    return R[::-1]\n"
   ]
  },
  {
   "cell_type": "code",
   "execution_count": null,
   "id": "95ab23f8",
   "metadata": {},
   "outputs": [],
   "source": []
  },
  {
   "cell_type": "code",
   "execution_count": 2,
   "id": "ccc59919",
   "metadata": {},
   "outputs": [],
   "source": [
    "#without typecasting\n",
    "def reverse(num):\n",
    "    result=0\n",
    "    while num!=0:\n",
    "        rem=num%10\n",
    "        result=result*10+rem\n",
    "        num=num//10\n",
    "    return result\n",
    "    "
   ]
  },
  {
   "cell_type": "code",
   "execution_count": 3,
   "id": "a3719506",
   "metadata": {},
   "outputs": [
    {
     "data": {
      "text/plain": [
       "432"
      ]
     },
     "execution_count": 3,
     "metadata": {},
     "output_type": "execute_result"
    }
   ],
   "source": [
    "reverse(234)\n"
   ]
  },
  {
   "cell_type": "code",
   "execution_count": 9,
   "id": "3eceacc0",
   "metadata": {},
   "outputs": [],
   "source": [
    "def palindrome(num):\n",
    "    N=num\n",
    "    rev=0\n",
    "    while N!=0:\n",
    "        rem=N%10\n",
    "        rev=rev*10+rem\n",
    "        num=num//10\n",
    "    return result\n",
    "    "
   ]
  },
  {
   "cell_type": "code",
   "execution_count": null,
   "id": "645f3b64",
   "metadata": {},
   "outputs": [],
   "source": [
    "r=input()\n",
    "s=sorted(r)\n",
    "s"
   ]
  },
  {
   "cell_type": "markdown",
   "id": "92cfb659",
   "metadata": {},
   "source": [
    "DAY 2\n"
   ]
  },
  {
   "cell_type": "code",
   "execution_count": null,
   "id": "f410dcf0",
   "metadata": {},
   "outputs": [],
   "source": [
    "#hello-hi-sir\n",
    "def hypens(s):\n",
    "    alph=''\n",
    "    hyp=''\n",
    "    for i in s:\n",
    "        if i =='-':\n",
    "            hyp=hyp+i\n",
    "        else:\n",
    "            alph=alph+i\n",
    "    return hyp+alph"
   ]
  },
  {
   "cell_type": "code",
   "execution_count": null,
   "id": "93d1ed7c",
   "metadata": {},
   "outputs": [],
   "source": [
    "hypens(\"hello-hi-sir\")"
   ]
  },
  {
   "cell_type": "code",
   "execution_count": null,
   "id": "a31fe0d5",
   "metadata": {},
   "outputs": [],
   "source": [
    "def nbase(num,n):\n",
    "    remi=[]\n",
    "    while num!=0:\n",
    "        rem=num%n\n",
    "        remi.append(rem)\n",
    "        num=num//n\n",
    "#conversion\n",
    "    result=''\n",
    "    for i in remi:\n",
    "        if i>9:\n",
    "            c=chr(i+55)\n",
    "            result=result+c\n",
    "        else:\n",
    "            c=str(i)\n",
    "            result=result+c\n",
    "    return result[::-1]\n",
    "     \n"
   ]
  },
  {
   "cell_type": "code",
   "execution_count": null,
   "id": "298deb2b",
   "metadata": {},
   "outputs": [],
   "source": [
    "nbase(718,12)"
   ]
  },
  {
   "cell_type": "markdown",
   "id": "8cec9bf0",
   "metadata": {},
   "source": [
    "password checker"
   ]
  },
  {
   "cell_type": "code",
   "execution_count": 5,
   "id": "035e9c8b",
   "metadata": {},
   "outputs": [],
   "source": [
    "def password(pwd):\n",
    "    if len(pwd) < 4:\n",
    "        return 0\n",
    "    if pwd[0].isdigit():\n",
    "        return 0\n",
    "    cap=0\n",
    "    num=0\n",
    "    for i in pwd:\n",
    "        if i.isupper():\n",
    "            cap=1\n",
    "        elif i.isdigit():\n",
    "            num=1\n",
    "        elif i==''or i=='/':\n",
    "            return 0\n",
    "    if cap==1 and num==1:\n",
    "        return 1\n",
    "    else:\n",
    "        return 0\n",
    "\n",
    "        \n",
    "        "
   ]
  },
  {
   "cell_type": "code",
   "execution_count": 6,
   "id": "10232f91",
   "metadata": {},
   "outputs": [
    {
     "data": {
      "text/plain": [
       "1"
      ]
     },
     "execution_count": 6,
     "metadata": {},
     "output_type": "execute_result"
    }
   ],
   "source": [
    "password(\"Nah12m\")"
   ]
  },
  {
   "cell_type": "markdown",
   "id": "83234c8c",
   "metadata": {},
   "source": [
    "difference b/w divisible and not divisible"
   ]
  },
  {
   "cell_type": "code",
   "execution_count": null,
   "id": "6b90890c",
   "metadata": {},
   "outputs": [],
   "source": [
    "def divisible(n,m):\n",
    "    div=0\n",
    "    nondiv=0\n",
    "    for i in range(1,m+1):\n",
    "        if i%m==0:\n",
    "            div=div+i\n",
    "        else:\n",
    "            nondiv=nondiv+i\n",
    "    return abs(nondiv-div)\n",
    "    \n",
    "\n",
    "            \n",
    "            "
   ]
  },
  {
   "cell_type": "code",
   "execution_count": null,
   "id": "f6dac0d0",
   "metadata": {},
   "outputs": [],
   "source": [
    "\n",
    "divisible(4,20)"
   ]
  },
  {
   "cell_type": "code",
   "execution_count": null,
   "id": "f7f35a1d",
   "metadata": {},
   "outputs": [],
   "source": [
    "arr=[4,1,3,6,2,11,5,5]\n",
    "n=len(arr)\n",
    "e=arr[0:n:2]\n",
    "o=arr[1:n:2]\n",
    "print(e)\n",
    "print(o)\n",
    "\n",
    "\n",
    "\n",
    "    "
   ]
  },
  {
   "cell_type": "code",
   "execution_count": null,
   "id": "d376dcd8",
   "metadata": {},
   "outputs": [],
   "source": [
    "s=sorted(e)\n",
    "d=sorted(o)\n",
    "print(s)\n",
    "print(d)"
   ]
  },
  {
   "cell_type": "code",
   "execution_count": null,
   "id": "2512bda5",
   "metadata": {},
   "outputs": [],
   "source": [
    "z=s[::-1]\n",
    "print(z[1]+d[1])\n",
    "\n"
   ]
  },
  {
   "cell_type": "raw",
   "id": "f0382f3c",
   "metadata": {},
   "source": [
    "product of smallest pair"
   ]
  },
  {
   "cell_type": "code",
   "execution_count": null,
   "id": "759c2cfc",
   "metadata": {},
   "outputs": [],
   "source": [
    "def product(arr,sum):\n",
    "    n=len(arr)\n",
    "    arr.sort()\n",
    "    if arr[0]+arr[1]<=sum:\n",
    "        return arr[0]*arr[1]\n",
    "    else:\n",
    "        return 0\n",
    "    if n<2:\n",
    "        print(-1)\n",
    "\n",
    "\n"
   ]
  },
  {
   "cell_type": "code",
   "execution_count": null,
   "id": "eef27e08",
   "metadata": {},
   "outputs": [],
   "source": [
    "product([4,1,3,7,8],3)"
   ]
  },
  {
   "cell_type": "markdown",
   "id": "adb79185",
   "metadata": {},
   "source": [
    "absolute difference"
   ]
  },
  {
   "cell_type": "code",
   "execution_count": null,
   "id": "061871ec",
   "metadata": {},
   "outputs": [],
   "source": [
    "def findcount(arr,length,num,diff):\n",
    "    count=0\n",
    "    for i in arr:\n",
    "        if abs(i-num)<=diff:\n",
    "            count=count+1\n",
    "    return count\n",
    "    if count>0:\n",
    "            return count\n",
    "    else:\n",
    "            return -1\n",
    "        "
   ]
  },
  {
   "cell_type": "code",
   "execution_count": null,
   "id": "341f4c1c",
   "metadata": {},
   "outputs": [],
   "source": [
    " findcount([9,7,13,21,5],4,8,2)"
   ]
  },
  {
   "cell_type": "markdown",
   "id": "cc552c26",
   "metadata": {},
   "source": [
    "valid parantheses"
   ]
  },
  {
   "cell_type": "code",
   "execution_count": null,
   "id": "6a694a45",
   "metadata": {},
   "outputs": [],
   "source": [
    "dict={'(':')','{':'}','[':']'}\n",
    "i=')'\n",
    "print(i in dict)"
   ]
  },
  {
   "cell_type": "code",
   "execution_count": null,
   "id": "53003a5a",
   "metadata": {},
   "outputs": [],
   "source": [
    "def validpara(p):\n",
    "    dict={'(':')','{':'}','[':']'}\n",
    "    stack=[]\n",
    "    for i in p:\n",
    "        if i in dict:\n",
    "            stack.append(dict[i])\n",
    "        else:\n",
    "            if stack[-1]==i:\n",
    "                stack.pop()\n",
    "    if len(stack)==0:\n",
    "        return \"valid\"\n",
    "    else:\n",
    "        return \"invalid\"\n",
    "    \n",
    "                \n",
    "    \n",
    "    "
   ]
  },
  {
   "cell_type": "code",
   "execution_count": null,
   "id": "4e29726c",
   "metadata": {},
   "outputs": [],
   "source": [
    "validpara(\"[({})]\")"
   ]
  },
  {
   "cell_type": "code",
   "execution_count": null,
   "id": "c2cfbf3f",
   "metadata": {},
   "outputs": [],
   "source": []
  }
 ],
 "metadata": {
  "kernelspec": {
   "display_name": "Python 3 (ipykernel)",
   "language": "python",
   "name": "python3"
  },
  "language_info": {
   "codemirror_mode": {
    "name": "ipython",
    "version": 3
   },
   "file_extension": ".py",
   "mimetype": "text/x-python",
   "name": "python",
   "nbconvert_exporter": "python",
   "pygments_lexer": "ipython3",
   "version": "3.11.5"
  }
 },
 "nbformat": 4,
 "nbformat_minor": 5
}
